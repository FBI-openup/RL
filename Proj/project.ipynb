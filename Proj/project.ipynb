{
 "cells": [
  {
   "cell_type": "code",
   "execution_count": 13,
   "metadata": {},
   "outputs": [],
   "source": [
    "import collections\n",
    "import gymnasium as gym\n",
    "import itertools\n",
    "import numpy as np\n",
    "\n",
    "# from numpy.typing import NDArray\n",
    "import pandas as pd\n",
    "from pathlib import Path\n",
    "import random\n",
    "\n",
    "from typing import Callable, cast, List, Tuple, Union"
   ]
  },
  {
   "cell_type": "code",
   "execution_count": 14,
   "metadata": {},
   "outputs": [],
   "source": [
    "import matplotlib.pyplot as plt\n",
    "\n",
    "import seaborn as sns\n",
    "from tqdm.notebook import tqdm"
   ]
  },
  {
   "cell_type": "code",
   "execution_count": 15,
   "metadata": {},
   "outputs": [],
   "source": [
    "from IPython.display import Video\n",
    "from ipywidgets import interact"
   ]
  },
  {
   "cell_type": "code",
   "execution_count": 16,
   "metadata": {},
   "outputs": [],
   "source": [
    "import warnings\n",
    "\n",
    "warnings.filterwarnings(\"ignore\", category=UserWarning)"
   ]
  },
  {
   "cell_type": "code",
   "execution_count": 17,
   "metadata": {},
   "outputs": [],
   "source": [
    "sns.set_context(\"talk\")"
   ]
  },
  {
   "cell_type": "code",
   "execution_count": 30,
   "metadata": {},
   "outputs": [],
   "source": [
    "FIGS_DIR = Path(\"figs/\") / \"project\"       # Where to save figures (.gif or .mp4 files)\n",
    "PLOTS_DIR = Path(\"figs/\") / \"project\"      # Where to save plots (.png or .svg files)\n",
    "MODELS_DIR = Path(\"models/\") / \"project\"   # Where to save models (.pth files)"
   ]
  },
  {
   "cell_type": "code",
   "execution_count": 31,
   "metadata": {},
   "outputs": [],
   "source": [
    "if not FIGS_DIR.exists():\n",
    "    FIGS_DIR.mkdir(parents=True)\n",
    "if not PLOTS_DIR.exists():\n",
    "    PLOTS_DIR.mkdir(parents=True)\n",
    "if not MODELS_DIR.exists():\n",
    "    MODELS_DIR.mkdir(parents=True)"
   ]
  },
  {
   "cell_type": "code",
   "execution_count": 20,
   "metadata": {},
   "outputs": [],
   "source": [
    "def video_selector(file_path: List[Path]):\n",
    "    return Video(file_path, embed=True, html_attributes=\"controls autoplay loop\")"
   ]
  },
  {
   "cell_type": "markdown",
   "metadata": {},
   "source": [
    "## Setup the Lunar Lander problem with Gymnasium"
   ]
  },
  {
   "cell_type": "markdown",
   "metadata": {},
   "source": [
    "For the purpose of focusing on the algorithms, we will use standard environments provided\n",
    "by the Gymnasium framework.\n",
    "As a reminder, this environment is described [here](https://gymnasium.org.cn/environments/box2d/lunar_lander/).\n",
    "\n",
    "The action indices are outlined below:\n",
    "\n",
    "| Action Index | Action     |\n",
    "|--------------|------------|\n",
    "| 0            | nothing  |\n",
    "| 1            |  left orientation engine  |\n",
    "| 2            |  main engine |\n",
    "| 3            |  right orientation engine |\n"
   ]
  },
  {
   "cell_type": "code",
   "execution_count": 21,
   "metadata": {},
   "outputs": [
    {
     "data": {
      "text/plain": [
       "'\\nenv = gym.make(\"LunarLander-v3\", \\n               continuous=True,        #chose between discrete and continuous action space\\n               gravity=-10.0,           #default is -10\\n               enable_wind=False,\\n               wind_power=15.0,         # only used if enable_wind=True\\n               turbulence_power=1.5,   # wind power changes rate\\n               render_mode =\\n               \"rgb_array\")\\n'"
      ]
     },
     "execution_count": 21,
     "metadata": {},
     "output_type": "execute_result"
    }
   ],
   "source": [
    "\"\"\"\n",
    "env = gym.make(\"LunarLander-v3\", \n",
    "               continuous=True,        #chose between discrete and continuous action space\n",
    "               gravity=-10.0,           #default is -10\n",
    "               enable_wind=False,\n",
    "               wind_power=15.0,         # only used if enable_wind=True\n",
    "               turbulence_power=1.5,   # wind power changes rate\n",
    "               render_mode =\n",
    "               \"rgb_array\")\n",
    "\"\"\""
   ]
  },
  {
   "cell_type": "code",
   "execution_count": 22,
   "metadata": {},
   "outputs": [],
   "source": [
    "env = gym.make(\"LunarLander-v3\", continuous=False)"
   ]
  },
  {
   "cell_type": "code",
   "execution_count": 23,
   "metadata": {},
   "outputs": [],
   "source": [
    "LL_observation_dim = env.observation_space._shape[0]\n",
    "action_labels = {0: \"Nothing\", 1: \"Left Engine\", 2: \"Main Engine\", 3: \" Right Engine\"}"
   ]
  },
  {
   "cell_type": "code",
   "execution_count": 24,
   "metadata": {},
   "outputs": [
    {
     "data": {
      "text/plain": [
       "'\\nVIDEO_PREFIX_INITIALIZATION = \"discrete_init\"\\n\\n(FIGS_DIR / f\"{VIDEO_PREFIX_INITIALIZATION}-episode-0.mp4\").unlink(missing_ok=True)\\n\\nenv = gym.wrappers.RecordVideo(env, video_folder=str(FIGS_DIR), name_prefix=VIDEO_PREFIX_INITIALIZATION)\\n# 随机动作 + episode 循环\\nobservation, info = env.reset()\\nend = False\\nwhile not end:\\n    action = env.action_space.sample()# 随机动作\\n    observation, reward, terminated, truncated, info = env.step(action)\\n    end = terminated or truncated\\n\\nenv.close()\\n'"
      ]
     },
     "execution_count": 24,
     "metadata": {},
     "output_type": "execute_result"
    }
   ],
   "source": [
    "\"\"\"\n",
    "VIDEO_PREFIX_INITIALIZATION = \"discrete_init\"\n",
    "\n",
    "(FIGS_DIR / f\"{VIDEO_PREFIX_INITIALIZATION}-episode-0.mp4\").unlink(missing_ok=True)\n",
    "\n",
    "env = gym.wrappers.RecordVideo(env, video_folder=str(FIGS_DIR), name_prefix=VIDEO_PREFIX_INITIALIZATION)\n",
    "# 随机动作 + episode 循环\n",
    "observation, info = env.reset()\n",
    "end = False\n",
    "while not end:\n",
    "    action = env.action_space.sample()# 随机动作\n",
    "    observation, reward, terminated, truncated, info = env.step(action)\n",
    "    end = terminated or truncated\n",
    "\n",
    "env.close()\n",
    "\"\"\""
   ]
  },
  {
   "cell_type": "code",
   "execution_count": 25,
   "metadata": {},
   "outputs": [
    {
     "data": {
      "text/plain": [
       "'\\nVideo(\\n    FIGS_DIR / f\"{VIDEO_PREFIX_INITIALIZATION}-episode-0.mp4\",\\n    embed=True,\\n    html_attributes=\"controls autoplay loop\",\\n)\\n'"
      ]
     },
     "execution_count": 25,
     "metadata": {},
     "output_type": "execute_result"
    }
   ],
   "source": [
    "\"\"\"\n",
    "Video(\n",
    "    FIGS_DIR / f\"{VIDEO_PREFIX_INITIALIZATION}-episode-0.mp4\",\n",
    "    embed=True,\n",
    "    html_attributes=\"controls autoplay loop\",\n",
    ")\n",
    "\"\"\""
   ]
  },
  {
   "cell_type": "markdown",
   "metadata": {},
   "source": [
    "## Discrete Version"
   ]
  },
  {
   "cell_type": "markdown",
   "metadata": {},
   "source": [
    "### epsilon_greedy_policy (same as Lab5)"
   ]
  },
  {
   "cell_type": "code",
   "execution_count": 26,
   "metadata": {},
   "outputs": [],
   "source": [
    "def greedy_policy(state: int, q_array: np.ndarray) -> int:\n",
    "    \"\"\"\n",
    "    Determine the action that maximizes the Q-value for a given state.\n",
    "\n",
    "    Parameters\n",
    "    ----------\n",
    "    state : int\n",
    "        The current state.\n",
    "    q_array : np.ndarray\n",
    "        The Q-table.\n",
    "\n",
    "    Returns\n",
    "    -------\n",
    "    int\n",
    "        The action that maximizes the Q-value for the given state.\n",
    "    \"\"\"\n",
    "    action = np.argmax(q_array[state])\n",
    "    return action\n",
    "\n",
    "\n",
    "def epsilon_greedy_policy(state: int, q_array: np.ndarray, epsilon: float) -> int:\n",
    "    \"\"\"\n",
    "    Determine the action to take based on an epsilon-greedy policy.\n",
    "\n",
    "    Parameters\n",
    "    ----------\n",
    "    state : int\n",
    "        The current state.\n",
    "    q_array : np.ndarray\n",
    "        The Q-table.\n",
    "    epsilon : float\n",
    "        The probability of choosing a random action.\n",
    "\n",
    "    Returns\n",
    "    -------\n",
    "    int\n",
    "        The action to take.\n",
    "    \"\"\"\n",
    "    if np.random.rand() < epsilon:\n",
    "        # epsilon % to choose a random action\n",
    "        num_actions = q_array.shape[1]  #  q_array: shape=(n_states, n_actions)\n",
    "        action = np.random.randint(num_actions)\n",
    "    else:\n",
    "        # (1 - epsilon) % use greedy policy\n",
    "        action = np.argmax(q_array[state])\n",
    "    return action"
   ]
  },
  {
   "cell_type": "markdown",
   "metadata": {},
   "source": [
    "## Q learning"
   ]
  },
  {
   "cell_type": "markdown",
   "metadata": {},
   "source": [
    "### Gym 社区关于 LunarLander 的典型范围\n",
    "\n",
    "#### 位置范围\n",
    "- **横向位置** `x ∈ [-1.0,1.0]`\n",
    "- **纵向位置** `y ∈ [0,1.4]` 或者更宽松一点 `y ∈ [-1,1.4]`\n",
    "#### 速度范围\n",
    "- **横向速度** `ẋ ∈ [-2,2]`\n",
    "- **纵向速度** `ẏ ∈ [-2,2]`\n",
    "#### 角度与角速度\n",
    "- **角度** `θ ∈ [-π, π]` （可能不会真的到 `±π` 这么极端，但以此作为可参考的界限）\n",
    "- **角速度** `θ̇ ∈ [-2,2]` 或略大\n",
    "#### 着地状态\n",
    "- **两条腿的接触状态** 是二进制 `{0,1}`\n",
    "#### 具体状态变量\n",
    "- **state[0]**: 横向位置（归一化） `[-1,+1]`\n",
    "- **state[1]**: 纵向位置（归一化） `[-1,+1]`\n",
    "- **state[2]**: 横向速度（缩放后） `[-2,2]`\n",
    "- **state[3]**: 纵向速度（缩放后） `[-2,2]`\n",
    "- **state[4]**: 飞船角度 `θ` `[−π, π]` 或 `[−2π, +2π]`\n",
    "- **state[5]**: 飞船角速度（缩放后） `[-2,2]`\n",
    "- **state[6]**: 左腿是否着地 `{0,1}`\n",
    "- **state[7]**: 右腿是否着地 `{0,1}`\n"
   ]
  },
  {
   "cell_type": "code",
   "execution_count": 27,
   "metadata": {},
   "outputs": [],
   "source": [
    "\n",
    "state_limits = [\n",
    "    (-1.0, 1.0),   # 维度0\n",
    "    (-1.0, 1.0),   # 维度1\n",
    "    (-2.0, 2.0),   # 维度2\n",
    "    (-2.0, 2.0),   # 维度3\n",
    "    (-np.pi, np.pi),  # 维度4\n",
    "    (-2.0, 2.0),   # 维度5 \n",
    "    (0, 1),        # 维度6 \n",
    "    (0, 1)         # 维度7 \n",
    "]\n",
    "\n",
    "num_bins = [8, 8, 8, 8, 8, 8, 2, 2]  # 每一维切分多少段，仅作举例\n",
    "bins_list = []\n",
    "\n",
    "for (low, high), nb in zip(state_limits, num_bins):\n",
    "    # 生成 nb-1 个切分点，相当于把区间切成 nb 段\n",
    "    # np.linspace 会返回 nb+1 个点, 我们一般取这些点的中间  nb-1 个 也可以\n",
    "    edges = np.linspace(low, high, nb+1)[1:-1]  # 这里就保留 (nb - 1) 个分割点\n",
    "    bins_list.append(edges)\n",
    "\n",
    "def discretize_state(state):\n",
    "    \"\"\"\n",
    "    将 8 维连续状态离散化为一个 tuple 索引.\n",
    "    state: np.ndarray, shape=(8,)\n",
    "    bins_list: list of 8 arrays (each is the bin edges).\n",
    "    \"\"\"\n",
    "    indices = []\n",
    "    for i in range(len(state)):\n",
    "        # digitize 根据 bins 把 x 映射到区间索引\n",
    "        idx = np.digitize(state[i], bins_list[i])\n",
    "        indices.append(idx)\n",
    "    return tuple(indices)\n"
   ]
  },
  {
   "cell_type": "code",
   "execution_count": 28,
   "metadata": {},
   "outputs": [
    {
     "name": "stdout",
     "output_type": "stream",
     "text": [
      "Observed dimension-wise min: [-0.00798225  1.398221   -0.80853826 -0.5644135  -0.0092428  -0.18314047\n",
      "  0.          0.        ]\n",
      "Observed dimension-wise max: [0.00798235 1.4224188  0.80851346 0.5110565  0.00925628 0.18314597\n",
      " 0.         0.        ]\n",
      "done training！\n"
     ]
    }
   ],
   "source": [
    "import collections\n",
    "\n",
    "# 动作空间大小\n",
    "n_actions = env.action_space.n\n",
    "\n",
    "# 字典 Q-table\n",
    "Q_dict = collections.defaultdict(lambda: np.zeros(n_actions))\n",
    "\n",
    "alpha = 0.01 # 学习率 0.1-0.01\n",
    "gamma = 0.99\n",
    "epsilon = 1.0\n",
    "epsilon_decay = 0.99\n",
    "epsilon_min = 0.01\n",
    "\n",
    "num_episodes = 40000\n",
    "max_steps = 500\n",
    "\n",
    "# 8维 state 的 min/max 测定\n",
    "mins = np.full(8, +np.inf, dtype=np.float32)\n",
    "maxs = np.full(8, -np.inf, dtype=np.float32)\n",
    "\n",
    "for ep in range(num_episodes):\n",
    "    obs, _ = env.reset()\n",
    "    # 将连续状态离散化\n",
    "    state_disc = discretize_state(obs)\n",
    "    done = False\n",
    "    \n",
    "    for step in range(max_steps):\n",
    "        # obs 是一个 shape=(8,) 的 array\n",
    "        # 更新 min/max\n",
    "        mins = np.minimum(mins, obs)\n",
    "        maxs = np.maximum(maxs, obs)\n",
    "        # epsilon-greedy\n",
    "        if np.random.rand() < epsilon:\n",
    "            action = env.action_space.sample()\n",
    "        else:\n",
    "            action = np.argmax(Q_dict[state_disc])\n",
    "\n",
    "        next_obs, reward, terminated, truncated, info = env.step(int(action))\n",
    "        done = terminated or truncated\n",
    "\n",
    "        # 离散化下一状态\n",
    "        next_state_disc = discretize_state(next_obs)\n",
    "\n",
    "        # Q-learning 更新\n",
    "        best_next_action = np.argmax(Q_dict[next_state_disc])\n",
    "        Q_dict[state_disc][action] += alpha * (\n",
    "            reward + gamma * Q_dict[next_state_disc][best_next_action] \n",
    "            - Q_dict[state_disc][action]\n",
    "        )\n",
    "\n",
    "        state_disc = next_state_disc\n",
    "        if done:\n",
    "            break\n",
    "\n",
    "    # 衰减 epsilon\n",
    "    epsilon = max(epsilon_min, epsilon * epsilon_decay)\n",
    "# 在训练结束后，看一下全程实际观测到的 min, max\n",
    "print(\"Observed dimension-wise min:\", mins)\n",
    "print(\"Observed dimension-wise max:\", maxs)\n",
    "env.close()\n",
    "print(\"done training！\")\n",
    "\n"
   ]
  },
  {
   "cell_type": "markdown",
   "metadata": {},
   "source": [
    "训练分数较低、经常负分，说明落月失败或中途坠毁占大多数。\n",
    "在像 LunarLander 这样 8 维连续空间里，表格 Q-learning + 离散化往往难度大，需要非常多的训练或非常精心的分箱+超参数调参才能成功。"
   ]
  },
  {
   "cell_type": "code",
   "execution_count": 32,
   "metadata": {},
   "outputs": [
    {
     "name": "stdout",
     "output_type": "stream",
     "text": [
      "Episode 0 finished with total_reward=-116.71\n",
      "Episode 1 finished with total_reward=-179.23\n",
      "Episode 2 finished with total_reward=-110.09\n",
      "Episode 3 finished with total_reward=-116.06\n",
      "Episode 4 finished with total_reward=-111.95\n",
      "5 test episode done and recorded!\n"
     ]
    },
    {
     "data": {
      "text/html": [
       "<video controls autoplay loop  >\n",
       " <source src=\"data:video/mp4;base64,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\" type=\"video/mp4\">\n",
       " Your browser does not support the video tag.\n",
       " </video>"
      ],
      "text/plain": [
       "<IPython.core.display.Video object>"
      ]
     },
     "execution_count": 32,
     "metadata": {},
     "output_type": "execute_result"
    }
   ],
   "source": [
    "from IPython.display import Video\n",
    "\n",
    "\n",
    "# 1. 重新创建一个环境，用于测试和录制视频\n",
    "test_env = gym.make(\"LunarLander-v3\", continuous=False, render_mode=\"rgb_array\")\n",
    "\n",
    "# 2. 用 RecordVideo 包装环境，指定视频存储路径\n",
    "VIDEO_PREFIX = \"discrete_test\"\n",
    "(test_env) = gym.wrappers.RecordVideo(\n",
    "    test_env,\n",
    "    video_folder=str(FIGS_DIR),       # 录制保存的文件夹\n",
    "    name_prefix=VIDEO_PREFIX,         # 录制文件名前缀\n",
    "    episode_trigger=lambda episode_id: True,  # 每个 episode 都保存视频\n",
    ")\n",
    "\n",
    "# 3. 运行若干个 episode，让智能体用训练好的 Q_dict 策略来选动作\n",
    "n_test_episodes = 5\n",
    "\n",
    "for ep in range(n_test_episodes):\n",
    "    obs, _ = test_env.reset()\n",
    "    state_disc = discretize_state(obs)      # 将连续状态离散化\n",
    "    done = False\n",
    "    total_reward = 0\n",
    "\n",
    "    while not done:\n",
    "        # 选取离散化状态下 Q 值最大的动作\n",
    "        action = np.argmax(Q_dict[state_disc])\n",
    "\n",
    "        next_obs, reward, terminated, truncated, info = test_env.step(action)\n",
    "        total_reward += reward\n",
    "\n",
    "        done = terminated or truncated\n",
    "        state_disc = discretize_state(next_obs)\n",
    "    \n",
    "    print(f\"Episode {ep} finished with total_reward={total_reward:.2f}\")\n",
    "\n",
    "test_env.close()\n",
    "print(\"5 test episode done and recorded!\")\n",
    "\n",
    "# 4. 在 notebook 中展示刚录制的第一个视频\n",
    "#   由于 RecordVideo 默认生成类似 \"discrete_test-episode-0.mp4\"、\"discrete_test-episode-1.mp4\" 等。\n",
    "#   这里演示查看第0号 episode。\n",
    "video_path = FIGS_DIR / f\"{VIDEO_PREFIX}-episode-0.mp4\"\n",
    "\n",
    "Video(\n",
    "    video_path,\n",
    "    embed=True,\n",
    "    html_attributes=\"controls autoplay loop\",\n",
    ")\n"
   ]
  }
 ],
 "metadata": {
  "kernelspec": {
   "display_name": "py312",
   "language": "python",
   "name": "python3"
  },
  "language_info": {
   "codemirror_mode": {
    "name": "ipython",
    "version": 3
   },
   "file_extension": ".py",
   "mimetype": "text/x-python",
   "name": "python",
   "nbconvert_exporter": "python",
   "pygments_lexer": "ipython3",
   "version": "3.12.9"
  }
 },
 "nbformat": 4,
 "nbformat_minor": 2
}
